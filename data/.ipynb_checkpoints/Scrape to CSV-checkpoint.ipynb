{
 "cells": [
  {
   "cell_type": "code",
   "execution_count": 1,
   "id": "b154aa1e",
   "metadata": {},
   "outputs": [],
   "source": [
    "from bs4 import BeautifulSoup\n",
    "import requests"
   ]
  },
  {
   "cell_type": "code",
   "execution_count": 2,
   "id": "2df84853",
   "metadata": {},
   "outputs": [],
   "source": [
    "url = 'https://www.liberatedstocktrader.com/sp-500-companies/'\n",
    "r = requests.get(url)\n",
    "soup = BeautifulSoup(r.content, \"html.parser\")"
   ]
  },
  {
   "cell_type": "code",
   "execution_count": 3,
   "id": "5d1a0cf9",
   "metadata": {
    "scrolled": true
   },
   "outputs": [],
   "source": [
    "table = soup.find_all('tr')"
   ]
  },
  {
   "cell_type": "code",
   "execution_count": 7,
   "id": "a45dd77d",
   "metadata": {},
   "outputs": [],
   "source": [
    "def price_of(string):\n",
    "    string = string.split(' ')[-1]\n",
    "    string = string.replace(',', '')\n",
    "    return string[:-7]\n",
    "\n",
    "def format_row(table_row):\n",
    "    table_row = table_row.split('\\n')[1:-1]\n",
    "    table_row[-1] = price_of(table_row[-1])\n",
    "    \n",
    "    res = ''\n",
    "    for info in table_row:\n",
    "        info = info.replace(',', '')\n",
    "        res += info + ','\n",
    "    \n",
    "    return res[:-1] + '\\n'"
   ]
  },
  {
   "cell_type": "code",
   "execution_count": 8,
   "id": "d931b8c4",
   "metadata": {},
   "outputs": [
    {
     "ename": "TypeError",
     "evalue": "'NoneType' object is not callable",
     "output_type": "error",
     "traceback": [
      "\u001b[0;31m---------------------------------------------------------------------------\u001b[0m",
      "\u001b[0;31mTypeError\u001b[0m                                 Traceback (most recent call last)",
      "Cell \u001b[0;32mIn[8], line 2\u001b[0m\n\u001b[1;32m      1\u001b[0m t \u001b[38;5;241m=\u001b[39m table[\u001b[38;5;241m10\u001b[39m]\n\u001b[0;32m----> 2\u001b[0m \u001b[43mformat_row\u001b[49m\u001b[43m(\u001b[49m\u001b[43mt\u001b[49m\u001b[43m)\u001b[49m\n",
      "Cell \u001b[0;32mIn[7], line 7\u001b[0m, in \u001b[0;36mformat_row\u001b[0;34m(table_row)\u001b[0m\n\u001b[1;32m      6\u001b[0m \u001b[38;5;28;01mdef\u001b[39;00m \u001b[38;5;21mformat_row\u001b[39m(table_row):\n\u001b[0;32m----> 7\u001b[0m     table_row \u001b[38;5;241m=\u001b[39m \u001b[43mtable_row\u001b[49m\u001b[38;5;241;43m.\u001b[39;49m\u001b[43msplit\u001b[49m\u001b[43m(\u001b[49m\u001b[38;5;124;43m'\u001b[39;49m\u001b[38;5;130;43;01m\\n\u001b[39;49;00m\u001b[38;5;124;43m'\u001b[39;49m\u001b[43m)\u001b[49m[\u001b[38;5;241m1\u001b[39m:\u001b[38;5;241m-\u001b[39m\u001b[38;5;241m1\u001b[39m]\n\u001b[1;32m      8\u001b[0m     table_row[\u001b[38;5;241m-\u001b[39m\u001b[38;5;241m1\u001b[39m] \u001b[38;5;241m=\u001b[39m price_of(table_row[\u001b[38;5;241m-\u001b[39m\u001b[38;5;241m1\u001b[39m])\n\u001b[1;32m     10\u001b[0m     res \u001b[38;5;241m=\u001b[39m \u001b[38;5;124m'\u001b[39m\u001b[38;5;124m'\u001b[39m\n",
      "\u001b[0;31mTypeError\u001b[0m: 'NoneType' object is not callable"
     ]
    }
   ],
   "source": [
    "t = table[10]\n",
    "format_row(t)"
   ]
  },
  {
   "cell_type": "code",
   "execution_count": 5,
   "id": "169115e5",
   "metadata": {},
   "outputs": [],
   "source": [
    "header = 'Ticker,Name,Sector,Cap\\n'\n",
    "table = table[2:]\n",
    "with open('./marketcap.csv', 'w') as f:\n",
    "    f.write(header)\n",
    "    for row in table:\n",
    "        row = format_row(row.text)\n",
    "        f.write(row)"
   ]
  },
  {
   "cell_type": "code",
   "execution_count": null,
   "id": "9c7652e8",
   "metadata": {},
   "outputs": [],
   "source": []
  }
 ],
 "metadata": {
  "kernelspec": {
   "display_name": "Python 3 (ipykernel)",
   "language": "python",
   "name": "python3"
  },
  "language_info": {
   "codemirror_mode": {
    "name": "ipython",
    "version": 3
   },
   "file_extension": ".py",
   "mimetype": "text/x-python",
   "name": "python",
   "nbconvert_exporter": "python",
   "pygments_lexer": "ipython3",
   "version": "3.10.8"
  }
 },
 "nbformat": 4,
 "nbformat_minor": 5
}
