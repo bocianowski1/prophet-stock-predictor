{
 "cells": [
  {
   "cell_type": "code",
   "execution_count": 1,
   "id": "b154aa1e",
   "metadata": {},
   "outputs": [],
   "source": [
    "# https://www.liberatedstocktrader.com/sp-500-companies/\n",
    "from bs4 import BeautifulSoup\n",
    "import requests"
   ]
  },
  {
   "cell_type": "code",
   "execution_count": 2,
   "id": "2df84853",
   "metadata": {},
   "outputs": [],
   "source": [
    "url = 'https://www.liberatedstocktrader.com/sp-500-companies/'\n",
    "r = requests.get(url)\n",
    "soup = BeautifulSoup(r.content, \"html.parser\")"
   ]
  },
  {
   "cell_type": "code",
   "execution_count": 3,
   "id": "5d1a0cf9",
   "metadata": {
    "scrolled": true
   },
   "outputs": [],
   "source": [
    "table = soup.find_all('tr')"
   ]
  },
  {
   "cell_type": "code",
   "execution_count": 4,
   "id": "a45dd77d",
   "metadata": {},
   "outputs": [],
   "source": [
    "def price_of(string):\n",
    "    string = string.split(' ')[-1]\n",
    "    string = string.replace(',', '')\n",
    "    return string[:-7]\n",
    "\n",
    "def format_row(table_row):\n",
    "    table_row = table_row.split('\\n')[1:-1]\n",
    "    table_row[-1] = price_of(table_row[-1])\n",
    "    \n",
    "    res = ''\n",
    "    for info in table_row:\n",
    "        info = info.replace(',', '')\n",
    "        res += info + ','\n",
    "    \n",
    "    return res[:-1] + '\\n'"
   ]
  },
  {
   "cell_type": "code",
   "execution_count": 5,
   "id": "169115e5",
   "metadata": {},
   "outputs": [],
   "source": [
    "header = 'Ticker,Name,Sector,Cap\\n'\n",
    "table = table[2:]\n",
    "with open('./marketcap.csv', 'w') as f:\n",
    "    f.write(header)\n",
    "    for row in table:\n",
    "        row = format_row(row.text)\n",
    "        f.write(row)"
   ]
  },
  {
   "cell_type": "code",
   "execution_count": null,
   "id": "9c7652e8",
   "metadata": {},
   "outputs": [],
   "source": []
  }
 ],
 "metadata": {
  "kernelspec": {
   "display_name": "Python 3 (ipykernel)",
   "language": "python",
   "name": "python3"
  },
  "language_info": {
   "codemirror_mode": {
    "name": "ipython",
    "version": 3
   },
   "file_extension": ".py",
   "mimetype": "text/x-python",
   "name": "python",
   "nbconvert_exporter": "python",
   "pygments_lexer": "ipython3",
   "version": "3.9.5"
  }
 },
 "nbformat": 4,
 "nbformat_minor": 5
}
